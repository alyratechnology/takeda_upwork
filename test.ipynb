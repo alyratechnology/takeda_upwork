{
 "cells": [
  {
   "cell_type": "code",
   "execution_count": 6,
   "id": "689b0f30",
   "metadata": {},
   "outputs": [
    {
     "name": "stdout",
     "output_type": "stream",
     "text": [
      "\n",
      "        Synthesize the following agent responses into a coherent answer for the user's query.\n",
      "        \n",
      "        User Query: hi\n",
      "        Output Type: =hi\n",
      "        \n",
      "        Agent Responses:\n",
      "        1\n",
      "\n",
      "2\n",
      "        \n",
      "        Instructions:\n",
      "        1. Create a comprehensive, well-structured response\n",
      "        2. If this is a checklist request, format as a numbered or bulleted list\n",
      "        3. If this is a report request, provide a detailed analysis with sections\n",
      "        4. If this is an insights request, focus on patterns and trends\n",
      "        5. Always reference specific sources when possible\n",
      "        6. Make the response actionable and informative\n",
      "        \n",
      "        Response:\n",
      "        \n"
     ]
    }
   ],
   "source": [
    "separator = \"\\n\\n\"\n",
    "var = f\"\"\"\n",
    "        Synthesize the following agent responses into a coherent answer for the user's query.\n",
    "        \n",
    "        User Query: hi\n",
    "        Output Type: =hi\n",
    "        \n",
    "        Agent Responses:\n",
    "        {separator.join(['1', '2'])}\n",
    "        \n",
    "        Instructions:\n",
    "        1. Create a comprehensive, well-structured response\n",
    "        2. If this is a checklist request, format as a numbered or bulleted list\n",
    "        3. If this is a report request, provide a detailed analysis with sections\n",
    "        4. If this is an insights request, focus on patterns and trends\n",
    "        5. Always reference specific sources when possible\n",
    "        6. Make the response actionable and informative\n",
    "        \n",
    "        Response:\n",
    "        \"\"\"\n",
    "\n",
    "print(var)\n"
   ]
  }
 ],
 "metadata": {
  "kernelspec": {
   "display_name": "firstEnv",
   "language": "python",
   "name": "python3"
  },
  "language_info": {
   "codemirror_mode": {
    "name": "ipython",
    "version": 3
   },
   "file_extension": ".py",
   "mimetype": "text/x-python",
   "name": "python",
   "nbconvert_exporter": "python",
   "pygments_lexer": "ipython3",
   "version": "3.11.0"
  }
 },
 "nbformat": 4,
 "nbformat_minor": 5
}
